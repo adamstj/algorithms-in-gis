{
 "cells": [
  {
   "cell_type": "code",
   "execution_count": 2,
   "source": [
    "import matplotlib.pyplot as plt\r\n",
    "import numpy as np\r\n",
    "%matplotlib qt"
   ],
   "outputs": [],
   "metadata": {}
  },
  {
   "cell_type": "code",
   "execution_count": 3,
   "source": [
    "#Opens the Coord.txt file and the Polygons.txt file and creates each a nested list for each row in the file.\r\n",
    "with open(r\"C:\\Users\\adams\\Documents\\Lund_Master\\GISN07\\6_Affine_transformation\\data\\commonPoints.txt\") as f:\r\n",
    "    coords = []\r\n",
    "    for line in f: \r\n",
    "        coords.append([int(x) for x in line.split()])\r\n",
    "print(coords)"
   ],
   "outputs": [
    {
     "output_type": "stream",
     "name": "stdout",
     "text": [
      "[[1, 1306208, 6200232, 127, 162], [2, 1314190, 6196334, 268, 142], [3, 1311726, 6221765, 86, 425]]\n"
     ]
    }
   ],
   "metadata": {}
  },
  {
   "cell_type": "code",
   "execution_count": 4,
   "source": [
    "#Create two separate lists consisting of the x,y and X,Y respectively\r\n",
    "primaryC = [[] for x in range(len(coords))]\r\n",
    "secondaryC = [[] for x in range(len(coords))]\r\n",
    "for index, coord in enumerate(coords):\r\n",
    "    primaryC[index].extend((coord[3], coord[4]))\r\n",
    "    secondaryC[index].extend((coord[1], coord[2]))\r\n",
    "\r\n",
    "\r\n",
    "print(primaryC)\r\n",
    "print(secondaryC)"
   ],
   "outputs": [
    {
     "output_type": "stream",
     "name": "stdout",
     "text": [
      "[[127, 162], [268, 142], [86, 425]]\n",
      "[[1306208, 6200232], [1314190, 6196334], [1311726, 6221765]]\n"
     ]
    }
   ],
   "metadata": {}
  },
  {
   "cell_type": "code",
   "execution_count": 5,
   "source": [
    "#Create the Y vector\r\n",
    "Y = np.zeros((6, 1))\r\n",
    "for index, i in enumerate(secondaryC):\r\n",
    "    Y[index] = i[0]\r\n",
    "    Y[index+len(secondaryC)] = i[1]\r\n",
    "print(Y)"
   ],
   "outputs": [
    {
     "output_type": "stream",
     "name": "stdout",
     "text": [
      "[[1306208.]\n",
      " [1314190.]\n",
      " [1311726.]\n",
      " [6200232.]\n",
      " [6196334.]\n",
      " [6221765.]]\n"
     ]
    }
   ],
   "metadata": {}
  },
  {
   "cell_type": "code",
   "execution_count": 6,
   "source": [
    "#Create the A matrix\r\n",
    "A = np.zeros((6,6))\r\n",
    "for index, i in enumerate(primaryC):\r\n",
    "    A[index][0] = 1\r\n",
    "    A[index][1] = i[0]\r\n",
    "    A[index][2] = i[1]\r\n",
    "\r\n",
    "    A[index+len(primaryC)][len(primaryC)] = 1\r\n",
    "    A[index+len(primaryC)][len(primaryC)+1] = i[0]\r\n",
    "    A[index+len(primaryC)][len(primaryC)+2] = i[1]\r\n",
    "print(A)"
   ],
   "outputs": [
    {
     "output_type": "stream",
     "name": "stdout",
     "text": [
      "[[  1. 127. 162.   0.   0.   0.]\n",
      " [  1. 268. 142.   0.   0.   0.]\n",
      " [  1.  86. 425.   0.   0.   0.]\n",
      " [  0.   0.   0.   1. 127. 162.]\n",
      " [  0.   0.   0.   1. 268. 142.]\n",
      " [  0.   0.   0.   1.  86. 425.]]\n"
     ]
    }
   ],
   "metadata": {}
  },
  {
   "cell_type": "code",
   "execution_count": 7,
   "source": [
    "#Create the B vector consisting of a1,a2,a3,b1,b2,b3\r\n",
    "B = np.linalg.solve(A,Y)\r\n",
    "print(B)"
   ],
   "outputs": [
    {
     "output_type": "stream",
     "name": "stdout",
     "text": [
      "[[ 1.29353169e+06]\n",
      " [ 6.09333480e+01]\n",
      " [ 3.04801037e+01]\n",
      " [ 6.18946447e+06]\n",
      " [-1.63945068e+01]\n",
      " [ 7.93187271e+01]]\n"
     ]
    }
   ],
   "metadata": {}
  },
  {
   "cell_type": "code",
   "execution_count": 8,
   "source": [
    "# Extracting the unknown parameters from the B vector and its corresponding computations\r\n",
    "X0 = B[0]\r\n",
    "Y0 = B[3]\r\n",
    "mx = np.sqrt((B[1]**2 + B[4]**2))\r\n",
    "my = np.sqrt((B[2]**2 + B[5]**2))\r\n",
    "a = np.arctan((B[4]/B[1]))\r\n",
    "b = np.arctan((-B[5]/B[2])) - np.arctan((B[4]/B[1]))\r\n",
    "\r\n",
    "print(\"this is the unknown parameters: \\n\\nX0: {}\\nY0: {} \\nmx: {} \\nmy: {} \\na: {} \\nb: {}\".format(X0[0], Y0[0], mx[0], my[0], a[0], b[0]))"
   ],
   "outputs": [
    {
     "output_type": "stream",
     "name": "stdout",
     "text": [
      "this is the unknown parameters: \n",
      "\n",
      "X0: 1293531.6880015442\n",
      "Y0: 6189464.468576786 \n",
      "mx: 63.100338799286305 \n",
      "my: 84.97350873014825 \n",
      "a: -0.26283213315467246 \n",
      "b: -0.9410880145386259\n"
     ]
    }
   ],
   "metadata": {}
  },
  {
   "cell_type": "code",
   "execution_count": 9,
   "source": [
    "#Plots the two sets of points in separate subplots\r\n",
    "fig, axes = plt.subplots(nrows=1, ncols=2)\r\n",
    "axes[0].set_title('Original System')\r\n",
    "axes[1].set_title('Destination System')\r\n",
    "\r\n",
    "for index, i in enumerate(primaryC):\r\n",
    "    axes[0].plot(primaryC[index][0], primaryC[index][1], color ='red', marker = 'o', label='Control Point' if index == 0 else \"\")\r\n",
    "    axes[1].plot(secondaryC[index][0], secondaryC[index][1], color ='blue', marker = 'o', label='Control Point' if index == 0 else \"\")\r\n",
    "\r\n",
    "axes[0].legend()\r\n",
    "axes[1].legend()"
   ],
   "outputs": [
    {
     "output_type": "execute_result",
     "data": {
      "text/plain": [
       "<matplotlib.legend.Legend at 0x2092b0bf100>"
      ]
     },
     "metadata": {},
     "execution_count": 9
    }
   ],
   "metadata": {}
  }
 ],
 "metadata": {
  "orig_nbformat": 4,
  "language_info": {
   "name": "python",
   "version": "3.9.2",
   "mimetype": "text/x-python",
   "codemirror_mode": {
    "name": "ipython",
    "version": 3
   },
   "pygments_lexer": "ipython3",
   "nbconvert_exporter": "python",
   "file_extension": ".py"
  },
  "kernelspec": {
   "name": "python3",
   "display_name": "Python 3.9.2 64-bit ('geopa': conda)"
  },
  "interpreter": {
   "hash": "51866085b3ec1dcbca908188452c560f7e842d8d723739977fd5f9e21df9e6c5"
  }
 },
 "nbformat": 4,
 "nbformat_minor": 2
}